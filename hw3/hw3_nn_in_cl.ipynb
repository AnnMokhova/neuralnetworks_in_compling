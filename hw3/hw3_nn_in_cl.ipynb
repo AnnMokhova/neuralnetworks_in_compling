{
  "nbformat": 4,
  "nbformat_minor": 0,
  "metadata": {
    "accelerator": "GPU",
    "colab": {
      "name": "hw3_nn_in_cl.ipynb",
      "provenance": [],
      "collapsed_sections": [],
      "authorship_tag": "ABX9TyN1JbOPwvA+zoNcbpAaEGsw"
    },
    "kernelspec": {
      "display_name": "Python 3",
      "name": "python3"
    }
  },
  "cells": [
    {
      "cell_type": "code",
      "metadata": {
        "colab": {
          "base_uri": "https://localhost:8080/"
        },
        "id": "rofYK--qzTiq",
        "outputId": "e1283cea-eaa0-4048-8c62-45cf2523e502"
      },
      "source": [
        "import nltk\r\n",
        "nltk.download('punkt')"
      ],
      "execution_count": 2,
      "outputs": [
        {
          "output_type": "stream",
          "text": [
            "[nltk_data] Downloading package punkt to /root/nltk_data...\n",
            "[nltk_data]   Unzipping tokenizers/punkt.zip.\n"
          ],
          "name": "stdout"
        },
        {
          "output_type": "execute_result",
          "data": {
            "text/plain": [
              "True"
            ]
          },
          "metadata": {
            "tags": []
          },
          "execution_count": 2
        }
      ]
    },
    {
      "cell_type": "markdown",
      "metadata": {
        "id": "_u6s9jtw1Ds4"
      },
      "source": [
        "# Скачиваем данные"
      ]
    },
    {
      "cell_type": "code",
      "metadata": {
        "colab": {
          "base_uri": "https://localhost:8080/"
        },
        "id": "xUxp5dc11CT3",
        "outputId": "6105f461-5241-40c6-8752-a81682e14b98"
      },
      "source": [
        "!wget https://raw.githubusercontent.com/semensorokin/DLforNLP_course_material/master/Homework2/answers_subsample.csv"
      ],
      "execution_count": 3,
      "outputs": [
        {
          "output_type": "stream",
          "text": [
            "--2020-12-20 21:56:05--  https://raw.githubusercontent.com/semensorokin/DLforNLP_course_material/master/Homework2/answers_subsample.csv\n",
            "Resolving raw.githubusercontent.com (raw.githubusercontent.com)... 151.101.0.133, 151.101.64.133, 151.101.128.133, ...\n",
            "Connecting to raw.githubusercontent.com (raw.githubusercontent.com)|151.101.0.133|:443... connected.\n",
            "HTTP request sent, awaiting response... 200 OK\n",
            "Length: 28717126 (27M) [text/plain]\n",
            "Saving to: ‘answers_subsample.csv’\n",
            "\n",
            "answers_subsample.c 100%[===================>]  27.39M  --.-KB/s    in 0.1s    \n",
            "\n",
            "2020-12-20 21:56:05 (250 MB/s) - ‘answers_subsample.csv’ saved [28717126/28717126]\n",
            "\n"
          ],
          "name": "stdout"
        }
      ]
    },
    {
      "cell_type": "code",
      "metadata": {
        "id": "jg1By4WE1HD1"
      },
      "source": [
        "import pandas as pd"
      ],
      "execution_count": 4,
      "outputs": []
    },
    {
      "cell_type": "code",
      "metadata": {
        "id": "S1lXmQLL1LFk"
      },
      "source": [
        "data = pd.read_csv('answers_subsample.csv')"
      ],
      "execution_count": 5,
      "outputs": []
    },
    {
      "cell_type": "code",
      "metadata": {
        "colab": {
          "base_uri": "https://localhost:8080/",
          "height": 202
        },
        "id": "0DAe-ADz1Mti",
        "outputId": "318ed17c-d25a-4893-de6a-38659ccf7bd3"
      },
      "source": [
        "data.head()"
      ],
      "execution_count": 6,
      "outputs": [
        {
          "output_type": "execute_result",
          "data": {
            "text/html": [
              "<div>\n",
              "<style scoped>\n",
              "    .dataframe tbody tr th:only-of-type {\n",
              "        vertical-align: middle;\n",
              "    }\n",
              "\n",
              "    .dataframe tbody tr th {\n",
              "        vertical-align: top;\n",
              "    }\n",
              "\n",
              "    .dataframe thead th {\n",
              "        text-align: right;\n",
              "    }\n",
              "</style>\n",
              "<table border=\"1\" class=\"dataframe\">\n",
              "  <thead>\n",
              "    <tr style=\"text-align: right;\">\n",
              "      <th></th>\n",
              "      <th>category</th>\n",
              "      <th>text</th>\n",
              "    </tr>\n",
              "  </thead>\n",
              "  <tbody>\n",
              "    <tr>\n",
              "      <th>0</th>\n",
              "      <td>business</td>\n",
              "      <td>Могут ли в россельхозбанке дать в залог норков...</td>\n",
              "    </tr>\n",
              "    <tr>\n",
              "      <th>1</th>\n",
              "      <td>law</td>\n",
              "      <td>Может ли срочник перевестись на контракт после...</td>\n",
              "    </tr>\n",
              "    <tr>\n",
              "      <th>2</th>\n",
              "      <td>business</td>\n",
              "      <td>Продажа недвижимости по ипотеки ? ( арестованы...</td>\n",
              "    </tr>\n",
              "    <tr>\n",
              "      <th>3</th>\n",
              "      <td>business</td>\n",
              "      <td>В чем смысл криптовалюты, какая от неё выгода ...</td>\n",
              "    </tr>\n",
              "    <tr>\n",
              "      <th>4</th>\n",
              "      <td>law</td>\n",
              "      <td>часть 1 статья 158 похитил телефон</td>\n",
              "    </tr>\n",
              "  </tbody>\n",
              "</table>\n",
              "</div>"
            ],
            "text/plain": [
              "   category                                               text\n",
              "0  business  Могут ли в россельхозбанке дать в залог норков...\n",
              "1       law  Может ли срочник перевестись на контракт после...\n",
              "2  business  Продажа недвижимости по ипотеки ? ( арестованы...\n",
              "3  business  В чем смысл криптовалюты, какая от неё выгода ...\n",
              "4       law                 часть 1 статья 158 похитил телефон"
            ]
          },
          "metadata": {
            "tags": []
          },
          "execution_count": 6
        }
      ]
    },
    {
      "cell_type": "code",
      "metadata": {
        "colab": {
          "base_uri": "https://localhost:8080/"
        },
        "id": "mHqbQvUn1OjT",
        "outputId": "180ecc7b-3a39-460d-ce4e-e06c7a0abe39"
      },
      "source": [
        "data.category.value_counts() * 100 / data.shape[0]"
      ],
      "execution_count": 7,
      "outputs": [
        {
          "output_type": "execute_result",
          "data": {
            "text/plain": [
              "law         29.793211\n",
              "relax       22.016242\n",
              "business    19.309527\n",
              "food        18.367055\n",
              "love        10.513965\n",
              "Name: category, dtype: float64"
            ]
          },
          "metadata": {
            "tags": []
          },
          "execution_count": 7
        }
      ]
    },
    {
      "cell_type": "markdown",
      "metadata": {
        "id": "5cfnUORl1WEc"
      },
      "source": [
        "# Предобученные эмбеддинги"
      ]
    },
    {
      "cell_type": "code",
      "metadata": {
        "colab": {
          "base_uri": "https://localhost:8080/"
        },
        "id": "Q93jOOnn1VG9",
        "outputId": "f3b9dd93-9bb1-4708-aea7-714bae938f2c"
      },
      "source": [
        "!wget https://dl.fbaipublicfiles.com/fasttext/vectors-crawl/cc.ru.300.vec.gz\r\n",
        "!gzip -d cc.ru.300.vec.gz"
      ],
      "execution_count": 8,
      "outputs": [
        {
          "output_type": "stream",
          "text": [
            "--2020-12-20 21:56:07--  https://dl.fbaipublicfiles.com/fasttext/vectors-crawl/cc.ru.300.vec.gz\n",
            "Resolving dl.fbaipublicfiles.com (dl.fbaipublicfiles.com)... 104.22.74.142, 172.67.9.4, 104.22.75.142, ...\n",
            "Connecting to dl.fbaipublicfiles.com (dl.fbaipublicfiles.com)|104.22.74.142|:443... connected.\n",
            "HTTP request sent, awaiting response... 200 OK\n",
            "Length: 1306357571 (1.2G) [binary/octet-stream]\n",
            "Saving to: ‘cc.ru.300.vec.gz’\n",
            "\n",
            "cc.ru.300.vec.gz    100%[===================>]   1.22G  27.9MB/s    in 46s     \n",
            "\n",
            "2020-12-20 21:56:53 (27.2 MB/s) - ‘cc.ru.300.vec.gz’ saved [1306357571/1306357571]\n",
            "\n"
          ],
          "name": "stdout"
        }
      ]
    },
    {
      "cell_type": "code",
      "metadata": {
        "id": "kF2DFGrL1fLM"
      },
      "source": [
        "from nltk.tokenize import word_tokenize, wordpunct_tokenize\r\n",
        "from tqdm import tqdm"
      ],
      "execution_count": 9,
      "outputs": []
    },
    {
      "cell_type": "code",
      "metadata": {
        "id": "QKcTzItM2LlD"
      },
      "source": [
        "def process_text(text):\r\n",
        "    \r\n",
        "    words = wordpunct_tokenize(text.lower())\r\n",
        "    \r\n",
        "    return words"
      ],
      "execution_count": 10,
      "outputs": []
    },
    {
      "cell_type": "code",
      "metadata": {
        "colab": {
          "base_uri": "https://localhost:8080/"
        },
        "id": "0KB6hB8Y2aUN",
        "outputId": "18291c07-8325-4953-9f3e-25a2864b349d"
      },
      "source": [
        "word2freq = {}\r\n",
        "lengths = []\r\n",
        "\r\n",
        "for text in tqdm(data.text):\r\n",
        "    \r\n",
        "    words = process_text(text)\r\n",
        "    \r\n",
        "    lengths.append(len(words))\r\n",
        "    \r\n",
        "    for word in words:\r\n",
        "        \r\n",
        "        if word in word2freq:\r\n",
        "            word2freq[word] += 1\r\n",
        "        else:\r\n",
        "            word2freq[word] = 1"
      ],
      "execution_count": 11,
      "outputs": [
        {
          "output_type": "stream",
          "text": [
            "100%|██████████| 237779/237779 [00:01<00:00, 135592.91it/s]\n"
          ],
          "name": "stderr"
        }
      ]
    },
    {
      "cell_type": "code",
      "metadata": {
        "id": "4HCFVWrJ2czv"
      },
      "source": [
        "import seaborn as sns\r\n",
        "from matplotlib import pyplot as plt"
      ],
      "execution_count": 12,
      "outputs": []
    },
    {
      "cell_type": "code",
      "metadata": {
        "colab": {
          "base_uri": "https://localhost:8080/",
          "height": 694
        },
        "id": "Urj9OUPf2goO",
        "outputId": "b3a30d52-e7dc-425a-84f2-6af17ec028d6"
      },
      "source": [
        "plt.figure(figsize=(16, 10))\r\n",
        "plt.title('Распределение длин слов в текстах')\r\n",
        "plt.xlabel('Длина предложения')\r\n",
        "plt.ylabel('Доля')\r\n",
        "sns.distplot(lengths)"
      ],
      "execution_count": 13,
      "outputs": [
        {
          "output_type": "stream",
          "text": [
            "/usr/local/lib/python3.6/dist-packages/seaborn/distributions.py:2551: FutureWarning: `distplot` is a deprecated function and will be removed in a future version. Please adapt your code to use either `displot` (a figure-level function with similar flexibility) or `histplot` (an axes-level function for histograms).\n",
            "  warnings.warn(msg, FutureWarning)\n"
          ],
          "name": "stderr"
        },
        {
          "output_type": "execute_result",
          "data": {
            "text/plain": [
              "<matplotlib.axes._subplots.AxesSubplot at 0x7f07756adb70>"
            ]
          },
          "metadata": {
            "tags": []
          },
          "execution_count": 13
        },
        {
          "output_type": "display_data",
          "data": {
            "image/png": "[encoded data removed]",
            "text/plain": [
              "<Figure size 1152x720 with 1 Axes>"
            ]
          },
          "metadata": {
            "tags": [],
            "needs_background": "light"
          }
        }
      ]
    },
    {
      "cell_type": "code",
      "metadata": {
        "colab": {
          "base_uri": "https://localhost:8080/",
          "height": 35
        },
        "id": "4i20ZZPE2it1",
        "outputId": "31211688-6ba8-470b-8b61-8baf33fcb567"
      },
      "source": [
        "upper_threshold = 32\r\n",
        "lower_threshold = 3\r\n",
        "\r\n",
        "correct_percent = len([sent_len for sent_len in lengths \r\n",
        "                       if sent_len <= upper_threshold and sent_len >= lower_threshold]) * 100 / len(lengths)\r\n",
        "\r\n",
        "'{:.2f} % наших текстов входят в промежуток от {} до {} слов'.format(correct_percent, lower_threshold, upper_threshold)"
      ],
      "execution_count": 14,
      "outputs": [
        {
          "output_type": "execute_result",
          "data": {
            "application/vnd.google.colaboratory.intrinsic+json": {
              "type": "string"
            },
            "text/plain": [
              "'99.66 % наших текстов входят в промежуток от 3 до 32 слов'"
            ]
          },
          "metadata": {
            "tags": []
          },
          "execution_count": 14
        }
      ]
    },
    {
      "cell_type": "code",
      "metadata": {
        "colab": {
          "base_uri": "https://localhost:8080/"
        },
        "id": "ZlCW1r9M2nvR",
        "outputId": "9b4506db-ca9f-40c1-825a-fbc980bbf91b"
      },
      "source": [
        "len(word2freq)"
      ],
      "execution_count": 15,
      "outputs": [
        {
          "output_type": "execute_result",
          "data": {
            "text/plain": [
              "152179"
            ]
          },
          "metadata": {
            "tags": []
          },
          "execution_count": 15
        }
      ]
    },
    {
      "cell_type": "code",
      "metadata": {
        "colab": {
          "base_uri": "https://localhost:8080/",
          "height": 35
        },
        "id": "tK6oGyVj2sca",
        "outputId": "588b0af1-6e91-4c72-cb37-f212a4b3ab87"
      },
      "source": [
        "'{} слов, которые встречались 3 и менее раз'.format(len([word for word in word2freq if word2freq[word] <= 3]))"
      ],
      "execution_count": 16,
      "outputs": [
        {
          "output_type": "execute_result",
          "data": {
            "application/vnd.google.colaboratory.intrinsic+json": {
              "type": "string"
            },
            "text/plain": [
              "'114332 слов, которые встречались 3 и менее раз'"
            ]
          },
          "metadata": {
            "tags": []
          },
          "execution_count": 16
        }
      ]
    },
    {
      "cell_type": "markdown",
      "metadata": {
        "id": "HSW5jsjp3LFP"
      },
      "source": [
        "# Читаем файл с эмбеддингами"
      ]
    },
    {
      "cell_type": "code",
      "metadata": {
        "id": "JEXCG7sd2u46"
      },
      "source": [
        "import numpy as np"
      ],
      "execution_count": 17,
      "outputs": []
    },
    {
      "cell_type": "code",
      "metadata": {
        "colab": {
          "base_uri": "https://localhost:8080/"
        },
        "id": "nY4jksOh3cvZ",
        "outputId": "d795ca21-ba4a-4c2b-b823-308d74ce36a6"
      },
      "source": [
        "word2index = {'PAD': 0}\r\n",
        "vectors = []\r\n",
        "    \r\n",
        "word2vec_file = open('cc.ru.300.vec')\r\n",
        "    \r\n",
        "n_words, embedding_dim = word2vec_file.readline().split()\r\n",
        "n_words, embedding_dim = int(n_words), int(embedding_dim)\r\n",
        "\r\n",
        "# Zero vector for PAD\r\n",
        "vectors.append(np.zeros((1, embedding_dim)))\r\n",
        "\r\n",
        "progress_bar = tqdm(desc='Read word2vec', total=n_words)\r\n",
        "\r\n",
        "while True:\r\n",
        "\r\n",
        "    line = word2vec_file.readline().strip()\r\n",
        "\r\n",
        "    if not line:\r\n",
        "        break\r\n",
        "        \r\n",
        "    current_parts = line.split()\r\n",
        "\r\n",
        "    current_word = ' '.join(current_parts[:-embedding_dim])\r\n",
        "\r\n",
        "    if current_word in word2freq:\r\n",
        "\r\n",
        "        word2index[current_word] = len(word2index)\r\n",
        "\r\n",
        "        current_vectors = current_parts[-embedding_dim:]\r\n",
        "        current_vectors = np.array(list(map(float, current_vectors)))\r\n",
        "        current_vectors = np.expand_dims(current_vectors, 0)\r\n",
        "\r\n",
        "        vectors.append(current_vectors)\r\n",
        "\r\n",
        "    progress_bar.update(1)\r\n",
        "\r\n",
        "progress_bar.close()\r\n",
        "\r\n",
        "word2vec_file.close()\r\n",
        "\r\n",
        "vectors = np.concatenate(vectors)"
      ],
      "execution_count": 18,
      "outputs": [
        {
          "output_type": "stream",
          "text": [
            "Read word2vec: 100%|██████████| 2000000/2000000 [01:01<00:00, 32475.06it/s]\n"
          ],
          "name": "stderr"
        }
      ]
    },
    {
      "cell_type": "code",
      "metadata": {
        "colab": {
          "base_uri": "https://localhost:8080/"
        },
        "id": "gZXQ3Jm_3w9a",
        "outputId": "440bcf3b-f568-43a4-cb00-a85871472741"
      },
      "source": [
        "len(word2index)"
      ],
      "execution_count": 19,
      "outputs": [
        {
          "output_type": "execute_result",
          "data": {
            "text/plain": [
              "117619"
            ]
          },
          "metadata": {
            "tags": []
          },
          "execution_count": 19
        }
      ]
    },
    {
      "cell_type": "code",
      "metadata": {
        "colab": {
          "base_uri": "https://localhost:8080/"
        },
        "id": "_yEZ5kJJ4Hq1",
        "outputId": "d4abbb46-e7d7-4b76-f0cf-672ec3cbf302"
      },
      "source": [
        "unk_words = [word for word in word2freq if word not in word2index]\r\n",
        "unk_counts = [word2freq[word] for word in unk_words]\r\n",
        "n_unk = sum(unk_counts) * 100 / sum(list(word2freq.values()))\r\n",
        "\r\n",
        "sub_sample_unk_words = {word: word2freq[word] for word in unk_words}\r\n",
        "sorted_unk_words = list(sorted(sub_sample_unk_words, key=lambda x: sub_sample_unk_words[x], reverse=True))\r\n",
        "\r\n",
        "print('Мы не знаем {:.2f} % слов в датасете'.format(n_unk))\r\n",
        "print('Количество неизвестных слов {} из {}, то есть {:.2f} % уникальных слов в словаре'.format(\r\n",
        "    len(unk_words), len(word2freq), len(unk_words) * 100 / len(word2freq)))\r\n",
        "print('В среднем каждое встречается {:.2f} раз'.format(np.mean(unk_counts)))\r\n",
        "print()\r\n",
        "print('Топ 5 невошедших слов:')\r\n",
        "\r\n",
        "for i in range(5):\r\n",
        "    print(sorted_unk_words[i], 'с количеством вхождениий -', word2freq[sorted_unk_words[i]])"
      ],
      "execution_count": 20,
      "outputs": [
        {
          "output_type": "stream",
          "text": [
            "Мы не знаем 2.50 % слов в датасете\n",
            "Количество неизвестных слов 34561 из 152179, то есть 22.71 % уникальных слов в словаре\n",
            "В среднем каждое встречается 1.98 раз\n",
            "\n",
            "Топ 5 невошедших слов:\n",
            "??? с количеством вхождениий - 3641\n",
            "?? с количеством вхождениий - 2448\n",
            "!!! с количеством вхождениий - 2214\n",
            "?) с количеством вхождениий - 2069\n",
            "\"? с количеством вхождениий - 1429\n"
          ],
          "name": "stdout"
        }
      ]
    },
    {
      "cell_type": "markdown",
      "metadata": {
        "id": "pfcrxUca4bX8"
      },
      "source": [
        "# Потеря 2.5% слов в датасете"
      ]
    },
    {
      "cell_type": "code",
      "metadata": {
        "id": "kQ3jqeyQ4M1Q"
      },
      "source": [
        "import torch"
      ],
      "execution_count": 21,
      "outputs": []
    },
    {
      "cell_type": "code",
      "metadata": {
        "id": "pDsFZ6254h8a"
      },
      "source": [
        "x = torch.rand(128, 64, 1024)"
      ],
      "execution_count": 22,
      "outputs": []
    },
    {
      "cell_type": "code",
      "metadata": {
        "id": "iyZ1RvGM4jam"
      },
      "source": [
        "lstm = torch.nn.LSTM(1024, 512, batch_first=True)"
      ],
      "execution_count": 23,
      "outputs": []
    },
    {
      "cell_type": "code",
      "metadata": {
        "colab": {
          "base_uri": "https://localhost:8080/"
        },
        "id": "eZH-H90E4ohR",
        "outputId": "79488029-11ef-4b29-b6f5-ce29ca3ef95a"
      },
      "source": [
        "%%timeit\r\n",
        "\r\n",
        "pred = lstm(x)"
      ],
      "execution_count": 24,
      "outputs": [
        {
          "output_type": "stream",
          "text": [
            "1 loop, best of 3: 740 ms per loop\n"
          ],
          "name": "stdout"
        }
      ]
    },
    {
      "cell_type": "markdown",
      "metadata": {
        "id": "gwsxtE995aRn"
      },
      "source": [
        "# GPU"
      ]
    },
    {
      "cell_type": "code",
      "metadata": {
        "colab": {
          "base_uri": "https://localhost:8080/"
        },
        "id": "YoPtQ_Pg4qLa",
        "outputId": "9f6cc6a2-c77f-4b42-cc2d-81d8978e5864"
      },
      "source": [
        "print('Доступна ли видеокарта:', torch.cuda.is_available())\r\n",
        "print('Если недоступна, поменяйте runtime, если в колабе')"
      ],
      "execution_count": 25,
      "outputs": [
        {
          "output_type": "stream",
          "text": [
            "Доступна ли видеокарта: True\n",
            "Если недоступна, поменяйте runtime, если в колабе\n"
          ],
          "name": "stdout"
        }
      ]
    },
    {
      "cell_type": "code",
      "metadata": {
        "id": "5F8qjpAh5cy_"
      },
      "source": [
        "# универсальных способ задать device\r\n",
        "device = torch.device('cuda') if torch.cuda.is_available() else torch.device('cpu')\r\n",
        "# если доступна gpu, то давайте ее использовать, но в этом задании должны использовать"
      ],
      "execution_count": 26,
      "outputs": []
    },
    {
      "cell_type": "code",
      "metadata": {
        "id": "4fDM8B5r5rjS"
      },
      "source": [
        "# перенесли x на gpu\r\n",
        "x_gpu = x.to(device)"
      ],
      "execution_count": 27,
      "outputs": []
    },
    {
      "cell_type": "code",
      "metadata": {
        "id": "TNehk51Q5z6i"
      },
      "source": [
        "# зададим lstm на gpu\r\n",
        "lstm_gpu = torch.nn.LSTM(1024, 512, batch_first=True)\r\n",
        "lstm_gpu = lstm_gpu.to(device)"
      ],
      "execution_count": 28,
      "outputs": []
    },
    {
      "cell_type": "code",
      "metadata": {
        "colab": {
          "base_uri": "https://localhost:8080/"
        },
        "id": "3-FJn63753VZ",
        "outputId": "9e325dc2-fad1-4100-ba2a-8d96f7690d87"
      },
      "source": [
        "%%timeit\r\n",
        "\r\n",
        "pred = lstm_gpu(x_gpu)"
      ],
      "execution_count": 29,
      "outputs": [
        {
          "output_type": "stream",
          "text": [
            "100 loops, best of 3: 15 ms per loop\n"
          ],
          "name": "stdout"
        }
      ]
    },
    {
      "cell_type": "markdown",
      "metadata": {
        "id": "TmQP9jQ3yV4D"
      },
      "source": [
        "# Данные в DataLoader"
      ]
    },
    {
      "cell_type": "code",
      "metadata": {
        "id": "rf-bejc4yQ4J"
      },
      "source": [
        "from torch.utils.data import Dataset, DataLoader"
      ],
      "execution_count": 30,
      "outputs": []
    },
    {
      "cell_type": "code",
      "metadata": {
        "colab": {
          "base_uri": "https://localhost:8080/"
        },
        "id": "E0jmBXO5557m",
        "outputId": "d237bf1c-76a0-4ad1-c74e-458b596c8bd7"
      },
      "source": [
        "'UNK' in word2index"
      ],
      "execution_count": 31,
      "outputs": [
        {
          "output_type": "execute_result",
          "data": {
            "text/plain": [
              "False"
            ]
          },
          "metadata": {
            "tags": []
          },
          "execution_count": 31
        }
      ]
    },
    {
      "cell_type": "code",
      "metadata": {
        "colab": {
          "base_uri": "https://localhost:8080/",
          "height": 202
        },
        "id": "Uu8ASsM5ypfM",
        "outputId": "01cb11b9-736e-4aee-bd21-afdebff2ca5a"
      },
      "source": [
        "data.head()"
      ],
      "execution_count": 32,
      "outputs": [
        {
          "output_type": "execute_result",
          "data": {
            "text/html": [
              "<div>\n",
              "<style scoped>\n",
              "    .dataframe tbody tr th:only-of-type {\n",
              "        vertical-align: middle;\n",
              "    }\n",
              "\n",
              "    .dataframe tbody tr th {\n",
              "        vertical-align: top;\n",
              "    }\n",
              "\n",
              "    .dataframe thead th {\n",
              "        text-align: right;\n",
              "    }\n",
              "</style>\n",
              "<table border=\"1\" class=\"dataframe\">\n",
              "  <thead>\n",
              "    <tr style=\"text-align: right;\">\n",
              "      <th></th>\n",
              "      <th>category</th>\n",
              "      <th>text</th>\n",
              "    </tr>\n",
              "  </thead>\n",
              "  <tbody>\n",
              "    <tr>\n",
              "      <th>0</th>\n",
              "      <td>business</td>\n",
              "      <td>Могут ли в россельхозбанке дать в залог норков...</td>\n",
              "    </tr>\n",
              "    <tr>\n",
              "      <th>1</th>\n",
              "      <td>law</td>\n",
              "      <td>Может ли срочник перевестись на контракт после...</td>\n",
              "    </tr>\n",
              "    <tr>\n",
              "      <th>2</th>\n",
              "      <td>business</td>\n",
              "      <td>Продажа недвижимости по ипотеки ? ( арестованы...</td>\n",
              "    </tr>\n",
              "    <tr>\n",
              "      <th>3</th>\n",
              "      <td>business</td>\n",
              "      <td>В чем смысл криптовалюты, какая от неё выгода ...</td>\n",
              "    </tr>\n",
              "    <tr>\n",
              "      <th>4</th>\n",
              "      <td>law</td>\n",
              "      <td>часть 1 статья 158 похитил телефон</td>\n",
              "    </tr>\n",
              "  </tbody>\n",
              "</table>\n",
              "</div>"
            ],
            "text/plain": [
              "   category                                               text\n",
              "0  business  Могут ли в россельхозбанке дать в залог норков...\n",
              "1       law  Может ли срочник перевестись на контракт после...\n",
              "2  business  Продажа недвижимости по ипотеки ? ( арестованы...\n",
              "3  business  В чем смысл криптовалюты, какая от неё выгода ...\n",
              "4       law                 часть 1 статья 158 похитил телефон"
            ]
          },
          "metadata": {
            "tags": []
          },
          "execution_count": 32
        }
      ]
    },
    {
      "cell_type": "markdown",
      "metadata": {
        "id": "awwqiUzHyvMJ"
      },
      "source": [
        "# Категории в индексы"
      ]
    },
    {
      "cell_type": "code",
      "metadata": {
        "id": "IvWFWtP3yrL0"
      },
      "source": [
        "cat_mapper = {cat: n for n, cat in enumerate(data.category.unique())}"
      ],
      "execution_count": 33,
      "outputs": []
    },
    {
      "cell_type": "code",
      "metadata": {
        "colab": {
          "base_uri": "https://localhost:8080/"
        },
        "id": "3Dni_Zh3y0d-",
        "outputId": "5f16d750-d692-4088-f4e7-066487508cbb"
      },
      "source": [
        "cat_mapper"
      ],
      "execution_count": 34,
      "outputs": [
        {
          "output_type": "execute_result",
          "data": {
            "text/plain": [
              "{'business': 0, 'food': 4, 'law': 1, 'love': 2, 'relax': 3}"
            ]
          },
          "metadata": {
            "tags": []
          },
          "execution_count": 34
        }
      ]
    },
    {
      "cell_type": "code",
      "metadata": {
        "id": "i5p_fEMpy1rR"
      },
      "source": [
        "data.category = data.category.map(cat_mapper)"
      ],
      "execution_count": 35,
      "outputs": []
    },
    {
      "cell_type": "markdown",
      "metadata": {
        "id": "1Z1oso7-zFiX"
      },
      "source": [
        "# Читалка данных"
      ]
    },
    {
      "cell_type": "code",
      "metadata": {
        "id": "xkpt0cEGy29y"
      },
      "source": [
        "class WordData(Dataset):\r\n",
        "    \r\n",
        "    def __init__(self, x_data, y_data, word2index, sequence_length=32, pad_token='PAD', verbose=True):\r\n",
        "        \r\n",
        "        super().__init__()\r\n",
        "        \r\n",
        "        self.x_data = []\r\n",
        "        self.y_data = y_data\r\n",
        "        \r\n",
        "        self.word2index = word2index\r\n",
        "        self.sequence_length = sequence_length\r\n",
        "        \r\n",
        "        self.pad_token = pad_token\r\n",
        "        self.pad_index = self.word2index[self.pad_token]\r\n",
        "        \r\n",
        "        self.load(x_data, verbose=verbose)\r\n",
        "        \r\n",
        "    @staticmethod\r\n",
        "    def process_text(text):\r\n",
        "\r\n",
        "        words = wordpunct_tokenize(text.lower())\r\n",
        "\r\n",
        "        #words = [morph.parse(word)[0].normal_form for word in words]\r\n",
        "        #words = re.findall('[a-яА-ЯеЁ]+', text.lower())\r\n",
        "        return words\r\n",
        "        \r\n",
        "    def load(self, data, verbose=True):\r\n",
        "        \r\n",
        "        data_iterator = tqdm(data, desc='Loading data', disable=not verbose)\r\n",
        "        \r\n",
        "        for text in data_iterator:\r\n",
        "            \r\n",
        "            words = self.process_text(text)\r\n",
        "            \r\n",
        "            indexed_words = self.indexing(words)\r\n",
        "            \r\n",
        "            self.x_data.append(indexed_words)\r\n",
        "    \r\n",
        "    def indexing(self, tokenized_text):\r\n",
        "\r\n",
        "        # здесь мы не используем токен UNK, потому что мы его специально не учили\r\n",
        "        # становится непонятно какой же эмбеддинг присвоить неизвестному слову,\r\n",
        "        # поэтому просто выбрасываем наши неизветсные слова\r\n",
        "        \r\n",
        "        return [self.word2index[word] for word in tokenized_text if word in self.word2index]\r\n",
        "    \r\n",
        "    def padding(self, sequence):\r\n",
        "        \r\n",
        "        # Ограничить длину self.sequence_length\r\n",
        "        # если длина меньше максимально - западить\r\n",
        "        if len(sequence)< self.sequence_length:\r\n",
        "          add_pad = self.sequence_length - len(sequence)\r\n",
        "          return sequence+[self.pad_index]*add_pad\r\n",
        "        else:\r\n",
        "          return sequence[:self.sequence_length]\r\n",
        "    \r\n",
        "    def __len__(self):\r\n",
        "        \r\n",
        "        return len(self.x_data)\r\n",
        "    \r\n",
        "    def __getitem__(self, idx):\r\n",
        "        \r\n",
        "        x = self.x_data[idx]\r\n",
        "        x = self.padding(x)\r\n",
        "        x = torch.Tensor(x).long()\r\n",
        "        \r\n",
        "        y = self.y_data[idx]\r\n",
        "        \r\n",
        "        return x, y"
      ],
      "execution_count": 121,
      "outputs": []
    },
    {
      "cell_type": "code",
      "metadata": {
        "id": "z9rItSGP1Jcm"
      },
      "source": [
        "from sklearn.model_selection import train_test_split\r\n",
        "from sklearn.metrics import f1_score"
      ],
      "execution_count": 122,
      "outputs": []
    },
    {
      "cell_type": "code",
      "metadata": {
        "colab": {
          "base_uri": "https://localhost:8080/"
        },
        "id": "pF2mvsuD1L2g",
        "outputId": "a7e1a378-452e-4936-c760-963c2235347a"
      },
      "source": [
        "x_train, x_validation, y_train, y_validation = train_test_split(data.text, data.category, test_size=0.1)\r\n",
        "\r\n",
        "train_dataset = WordData(list(x_train), list(y_train), word2index)\r\n",
        "train_loader = DataLoader(train_dataset, batch_size=64)\r\n",
        "\r\n",
        "validation_dataset = WordData(list(x_validation), list(y_validation), word2index)\r\n",
        "validation_loader = DataLoader(validation_dataset, batch_size=64)"
      ],
      "execution_count": 123,
      "outputs": [
        {
          "output_type": "stream",
          "text": [
            "Loading data: 100%|██████████| 214001/214001 [00:02<00:00, 106003.55it/s]\n",
            "Loading data: 100%|██████████| 23778/23778 [00:00<00:00, 130446.59it/s]\n"
          ],
          "name": "stderr"
        }
      ]
    },
    {
      "cell_type": "code",
      "metadata": {
        "id": "9V_jLwRv1Nfp"
      },
      "source": [
        "for x, y in train_loader:\r\n",
        "    break"
      ],
      "execution_count": 124,
      "outputs": []
    },
    {
      "cell_type": "code",
      "metadata": {
        "colab": {
          "base_uri": "https://localhost:8080/"
        },
        "id": "8XqbMh-9IiZW",
        "outputId": "256b4e6a-bcea-46cc-cfb2-648bc7078e14"
      },
      "source": [
        "x"
      ],
      "execution_count": 125,
      "outputs": [
        {
          "output_type": "execute_result",
          "data": {
            "text/plain": [
              "tensor([[ 2362,  1249, 94123,  ...,     0,     0,     0],\n",
              "        [ 8907,     8, 87924,  ...,     0,     0,     0],\n",
              "        [ 5455,  2271,   264,  ...,     0,     0,     0],\n",
              "        ...,\n",
              "        [   74,   137,    92,  ...,     0,     0,     0],\n",
              "        [95581, 23284,    49,  ...,     0,     0,     0],\n",
              "        [ 6811,   425,   874,  ...,     0,     0,     0]])"
            ]
          },
          "metadata": {
            "tags": []
          },
          "execution_count": 125
        }
      ]
    },
    {
      "cell_type": "code",
      "metadata": {
        "colab": {
          "base_uri": "https://localhost:8080/"
        },
        "id": "Bf6DEtCIIj0g",
        "outputId": "71b1a478-e55e-4b55-8e7e-2b322ca233d5"
      },
      "source": [
        "y"
      ],
      "execution_count": 126,
      "outputs": [
        {
          "output_type": "execute_result",
          "data": {
            "text/plain": [
              "tensor([0, 0, 1, 0, 1, 3, 3, 1, 1, 1, 1, 1, 1, 0, 1, 1, 1, 3, 3, 3, 4, 0, 0, 3,\n",
              "        2, 3, 0, 1, 0, 2, 1, 1, 1, 3, 0, 1, 2, 4, 2, 1, 3, 1, 4, 4, 1, 0, 4, 3,\n",
              "        0, 1, 0, 0, 4, 1, 4, 0, 1, 2, 0, 3, 0, 1, 3, 3])"
            ]
          },
          "metadata": {
            "tags": []
          },
          "execution_count": 126
        }
      ]
    },
    {
      "cell_type": "markdown",
      "metadata": {
        "id": "tHyBR1X2ItG8"
      },
      "source": [
        "# Обучить нейронку"
      ]
    },
    {
      "cell_type": "code",
      "metadata": {
        "id": "GrcvfBAXIqno"
      },
      "source": [
        "from math import sqrt\r\n",
        "\r\n",
        "class model_with_att(torch.nn.Module):\r\n",
        "  def __init__(self, matrix_w, n=len(cat_mapper)): #n - количетсво категорий\r\n",
        "        \r\n",
        "        super().__init__()\r\n",
        "\r\n",
        "        self.n = n \r\n",
        "\r\n",
        "        self.emb_layer = torch.nn.Embedding.from_pretrained(torch.Tensor(matrix_w))\r\n",
        "\r\n",
        "        # задайте лстм, можно 2 уровня, лучше бидирекциональный, в доке торча есть инофрмация как это сделать в одну строчку\r\n",
        "        self.LSTM = torch.nn.LSTM(300, 128, num_layers=2, dropout=0.1, bidirectional=True)\r\n",
        "        \r\n",
        "        # три линейных преобразования, размерность совпадает с выходом из лстм (если БИлстм то надо умножить ее на 2)\r\n",
        "        self.q_proj = torch.nn.Linear(256, 128)\r\n",
        "        self.k_proj = torch.nn.Linear(256, 128)\r\n",
        "        self.v_proj = torch.nn.Linear(256, 128)\r\n",
        "\r\n",
        "        self.att_soft = torch.nn.Softmax(dim = 2)\r\n",
        "        \r\n",
        "        # три конволюционных фильтра с разными ядрами (3,4,5) чтобы были всякие нграммы ловить\r\n",
        "        self.cnn_3gr = torch.nn.Conv1d(in_channels=128, out_channels=64, kernel_size=(3,), stride=(1,))\r\n",
        "        self.cnn_4gr = torch.nn.Conv1d(in_channels=128, out_channels=64, kernel_size=(4,), stride=(1,))\r\n",
        "        self.cnn_5gr = torch.nn.Conv1d(in_channels=128, out_channels=64, kernel_size=(5,), stride=(1,))\r\n",
        "\r\n",
        "        # сверху накидываем два полносвязных слоя для классификации\r\n",
        "        self.linear_1 = torch.nn.Linear(in_features=192, out_features=128, bias=True)\r\n",
        "        self.relu = torch.nn.ReLU()\r\n",
        "        self.linear_2 = torch.nn.Linear(in_features=128, out_features=n, bias=True) \r\n",
        "\r\n",
        "        \r\n",
        "  def forward(self, x):\r\n",
        "      #примените эмбеддинги\r\n",
        "      x_emb = self.emb_layer(x)\r\n",
        "      # транспонируйте тензор для лстм как было описано выше\r\n",
        "      x_emb = x_emb.transpose(0, 1)\r\n",
        "\r\n",
        "      x, _ = self.LSTM(x_emb) # применим лстм, не забываем что на выходе у него много всяких последовательностей, нам нужна только эта\r\n",
        "      # транспонируйте обратно\r\n",
        "      x = x.transpose(0, 1)\r\n",
        "\r\n",
        "      x_q = self.q_proj(x) #применим линейные преобразования для селф-эттеншена\r\n",
        "      x_k = self.k_proj(x)\r\n",
        "      x_v = self.v_proj(x)\r\n",
        "\r\n",
        "      x_k_T = x_k.transpose(2, 1)\r\n",
        "      att_scores = torch.bmm(x_q, x_k_T) / sqrt(300)\r\n",
        "      # посмотрите в презентацию и перемножьте нужные тензора изспольуя функцию bmm из торча, перед этим одну из матриц обзательно транспонируйте\r\n",
        "      # результат обязательно поделите на корень из последней размерности (то есть на рземер эмбеддинга из предыдущего слоя)\r\n",
        "      att_dist = self.att_soft(att_scores) # накидываем софтмакс\r\n",
        "      attention_vectors = torch.bmm(att_dist, x_v)\r\n",
        "\r\n",
        "      x_att = attention_vectors.transpose(2,1) #транспонируем для конфолючионнах фильтров\r\n",
        "\r\n",
        "      x_cnn3 = self.cnn_3gr(x_att)\r\n",
        "      x_cnn4 = self.cnn_4gr(x_att)\r\n",
        "      x_cnn5 = self.cnn_5gr(x_att)\r\n",
        "\r\n",
        "      frst, _ =  x_cnn3.max(dim= -1,) # cделаем макс пуллинг\r\n",
        "      sc, _ = x_cnn4.max(dim= -1,)\r\n",
        "      thr, _ = x_cnn5.max(dim= -1,)\r\n",
        "      \r\n",
        "      x_cat = torch.cat((frst, sc, thr), dim=-1) # а теперь объединим результаты\r\n",
        "      \r\n",
        "      x = self.linear_1(x_cat)\r\n",
        "      x = self.relu(x)    \r\n",
        "      x = self.linear_2(x)\r\n",
        "    \r\n",
        "      return x"
      ],
      "execution_count": 127,
      "outputs": []
    },
    {
      "cell_type": "code",
      "metadata": {
        "id": "Lj8FW-5m6A4W"
      },
      "source": [
        "n_classes = data.category.unique().shape[0]"
      ],
      "execution_count": 128,
      "outputs": []
    },
    {
      "cell_type": "code",
      "metadata": {
        "id": "TYZX7mag7QvS"
      },
      "source": [
        "model = model_with_att(vectors, n_classes)"
      ],
      "execution_count": 129,
      "outputs": []
    },
    {
      "cell_type": "code",
      "metadata": {
        "colab": {
          "base_uri": "https://localhost:8080/"
        },
        "id": "WRu8xDoD7Sb_",
        "outputId": "f8d538e8-fc5e-4a04-8e09-420694d74063"
      },
      "source": [
        "model #если сделать batch_first=True, то можно не транспонировать батчи"
      ],
      "execution_count": 130,
      "outputs": [
        {
          "output_type": "execute_result",
          "data": {
            "text/plain": [
              "model_with_att(\n",
              "  (emb_layer): Embedding(117619, 300)\n",
              "  (LSTM): LSTM(300, 128, num_layers=2, dropout=0.1, bidirectional=True)\n",
              "  (q_proj): Linear(in_features=256, out_features=128, bias=True)\n",
              "  (k_proj): Linear(in_features=256, out_features=128, bias=True)\n",
              "  (v_proj): Linear(in_features=256, out_features=128, bias=True)\n",
              "  (att_soft): Softmax(dim=2)\n",
              "  (cnn_3gr): Conv1d(128, 64, kernel_size=(3,), stride=(1,))\n",
              "  (cnn_4gr): Conv1d(128, 64, kernel_size=(4,), stride=(1,))\n",
              "  (cnn_5gr): Conv1d(128, 64, kernel_size=(5,), stride=(1,))\n",
              "  (linear_1): Linear(in_features=192, out_features=128, bias=True)\n",
              "  (relu): ReLU()\n",
              "  (linear_2): Linear(in_features=128, out_features=5, bias=True)\n",
              ")"
            ]
          },
          "metadata": {
            "tags": []
          },
          "execution_count": 130
        }
      ]
    },
    {
      "cell_type": "code",
      "metadata": {
        "id": "ZP_x-Y4O7guP"
      },
      "source": [
        "with torch.no_grad():\r\n",
        "    pred = model(x)"
      ],
      "execution_count": 131,
      "outputs": []
    },
    {
      "cell_type": "code",
      "metadata": {
        "colab": {
          "base_uri": "https://localhost:8080/"
        },
        "id": "qk1Y-W5x7kjq",
        "outputId": "dcdbb725-5df6-4a21-e5f5-00ff4e924ce3"
      },
      "source": [
        "pred.shape"
      ],
      "execution_count": 132,
      "outputs": [
        {
          "output_type": "execute_result",
          "data": {
            "text/plain": [
              "torch.Size([64, 5])"
            ]
          },
          "metadata": {
            "tags": []
          },
          "execution_count": 132
        }
      ]
    },
    {
      "cell_type": "code",
      "metadata": {
        "id": "T81Uf1tXP6QA"
      },
      "source": [
        "device = torch.device('cuda') if torch.cuda.is_available() else torch.device('cpu')"
      ],
      "execution_count": 133,
      "outputs": []
    },
    {
      "cell_type": "code",
      "metadata": {
        "id": "-MunhMmUP-rA"
      },
      "source": [
        "criterion = torch.nn.CrossEntropyLoss()\r\n",
        "optimizer = torch.optim.Adam(params=model.parameters())\r\n",
        "\r\n",
        "model = model.to(device)\r\n",
        "criterion = criterion.to(device)"
      ],
      "execution_count": 134,
      "outputs": []
    },
    {
      "cell_type": "code",
      "metadata": {
        "colab": {
          "base_uri": "https://localhost:8080/"
        },
        "id": "p6qTdfDdQAr_",
        "outputId": "9cd5fa94-6905-4efc-faf9-47f82ca15427"
      },
      "source": [
        "epochs = 10\r\n",
        "losses = []\r\n",
        "best_test_loss = 10.\r\n",
        "\r\n",
        "test_f1 = []\r\n",
        "\r\n",
        "for n_epoch in range(epochs):\r\n",
        "    \r\n",
        "    train_losses = []\r\n",
        "    test_losses = []\r\n",
        "    test_targets = []\r\n",
        "    test_pred_class = []\r\n",
        "    \r\n",
        "    progress_bar = tqdm(total=len(train_loader.dataset), desc='Epoch {}'.format(n_epoch + 1))\r\n",
        "    \r\n",
        "    model.train()\r\n",
        "    \r\n",
        "    for x, y in train_loader:\r\n",
        "\r\n",
        "        x = x.to(device)\r\n",
        "        y = y.to(device)\r\n",
        "        \r\n",
        "        optimizer.zero_grad()\r\n",
        "        \r\n",
        "        pred = model(x)\r\n",
        "        loss = criterion(pred, y)\r\n",
        "        \r\n",
        "        loss.backward()\r\n",
        "        \r\n",
        "        optimizer.step()\r\n",
        "        \r\n",
        "        train_losses.append(loss.item())\r\n",
        "        losses.append(loss.item())\r\n",
        "        \r\n",
        "        progress_bar.set_postfix(train_loss = np.mean(losses[-500:]))\r\n",
        "\r\n",
        "        progress_bar.update(x.shape[0])\r\n",
        "        \r\n",
        "    progress_bar.close()\r\n",
        "    \r\n",
        "    model.eval()\r\n",
        "    \r\n",
        "    for x, y in validation_loader:\r\n",
        "        \r\n",
        "        x = x.to(device)\r\n",
        "\r\n",
        "        with torch.no_grad():\r\n",
        "\r\n",
        "            pred = model(x)\r\n",
        "\r\n",
        "            pred = pred.cpu()\r\n",
        "\r\n",
        "            test_targets.append(y.numpy())\r\n",
        "            test_pred_class.append(np.argmax(pred, axis=1))\r\n",
        "\r\n",
        "            loss = criterion(pred, y)\r\n",
        "\r\n",
        "            test_losses.append(loss.item())\r\n",
        "        \r\n",
        "    mean_test_loss = np.mean(test_losses)\r\n",
        "\r\n",
        "    test_targets = np.concatenate(test_targets).squeeze()\r\n",
        "    test_pred_class = np.concatenate(test_pred_class).squeeze()\r\n",
        "\r\n",
        "    f1 = f1_score(test_targets, test_pred_class, average='micro')\r\n",
        "\r\n",
        "    test_f1.append(f1)\r\n",
        "    \r\n",
        "    print()\r\n",
        "    print('Losses: train - {:.3f}, test - {:.3f}'.format(np.mean(train_losses), mean_test_loss))\r\n",
        "\r\n",
        "    print('F1 test - {:.3f}'.format(f1))\r\n",
        "        \r\n",
        "    # Early stopping:\r\n",
        "    if mean_test_loss < best_test_loss:\r\n",
        "        best_test_loss = mean_test_loss\r\n",
        "    else:\r\n",
        "        print('Early stopping')\r\n",
        "        break"
      ],
      "execution_count": 135,
      "outputs": [
        {
          "output_type": "stream",
          "text": [
            "Epoch 1: 100%|██████████| 214001/214001 [01:00<00:00, 3515.79it/s, train_loss=0.481]\n",
            "Epoch 2:   0%|          | 640/214001 [00:00<00:54, 3897.15it/s, train_loss=0.48]"
          ],
          "name": "stderr"
        },
        {
          "output_type": "stream",
          "text": [
            "\n",
            "Losses: train - 0.591, test - 0.485\n",
            "F1 test - 0.827\n"
          ],
          "name": "stdout"
        },
        {
          "output_type": "stream",
          "text": [
            "Epoch 2: 100%|██████████| 214001/214001 [01:00<00:00, 3551.38it/s, train_loss=0.44]\n",
            "Epoch 3:   0%|          | 704/214001 [00:00<00:53, 3968.54it/s, train_loss=0.44]"
          ],
          "name": "stderr"
        },
        {
          "output_type": "stream",
          "text": [
            "\n",
            "Losses: train - 0.459, test - 0.451\n",
            "F1 test - 0.837\n"
          ],
          "name": "stdout"
        },
        {
          "output_type": "stream",
          "text": [
            "Epoch 3: 100%|██████████| 214001/214001 [01:00<00:00, 3548.86it/s, train_loss=0.417]\n",
            "Epoch 4:   0%|          | 640/214001 [00:00<00:56, 3792.60it/s, train_loss=0.417]"
          ],
          "name": "stderr"
        },
        {
          "output_type": "stream",
          "text": [
            "\n",
            "Losses: train - 0.431, test - 0.442\n",
            "F1 test - 0.840\n"
          ],
          "name": "stdout"
        },
        {
          "output_type": "stream",
          "text": [
            "Epoch 4: 100%|██████████| 214001/214001 [01:02<00:00, 3402.95it/s, train_loss=0.399]\n",
            "Epoch 5:   0%|          | 640/214001 [00:00<01:00, 3534.46it/s, train_loss=0.398]"
          ],
          "name": "stderr"
        },
        {
          "output_type": "stream",
          "text": [
            "\n",
            "Losses: train - 0.411, test - 0.437\n",
            "F1 test - 0.841\n"
          ],
          "name": "stdout"
        },
        {
          "output_type": "stream",
          "text": [
            "Epoch 5: 100%|██████████| 214001/214001 [01:02<00:00, 3414.09it/s, train_loss=0.382]\n",
            "Epoch 6:   0%|          | 576/214001 [00:00<00:59, 3585.09it/s, train_loss=0.381]"
          ],
          "name": "stderr"
        },
        {
          "output_type": "stream",
          "text": [
            "\n",
            "Losses: train - 0.393, test - 0.434\n",
            "F1 test - 0.845\n"
          ],
          "name": "stdout"
        },
        {
          "output_type": "stream",
          "text": [
            "Epoch 6: 100%|██████████| 214001/214001 [01:02<00:00, 3429.02it/s, train_loss=0.362]\n"
          ],
          "name": "stderr"
        },
        {
          "output_type": "stream",
          "text": [
            "\n",
            "Losses: train - 0.374, test - 0.441\n",
            "F1 test - 0.842\n",
            "Early stopping\n"
          ],
          "name": "stdout"
        }
      ]
    },
    {
      "cell_type": "code",
      "metadata": {
        "id": "vba1rU4hQGqE"
      },
      "source": [
        ""
      ],
      "execution_count": null,
      "outputs": []
    }
  ]
}